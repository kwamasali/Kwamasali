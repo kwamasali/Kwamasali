{
  "nbformat": 4,
  "nbformat_minor": 0,
  "metadata": {
    "colab": {
      "provenance": [],
      "authorship_tag": "ABX9TyNYHSEBlbrvUHOi68AZqMHT",
      "include_colab_link": true
    },
    "kernelspec": {
      "name": "python3",
      "display_name": "Python 3"
    },
    "language_info": {
      "name": "python"
    }
  },
  "cells": [
    {
      "cell_type": "markdown",
      "metadata": {
        "id": "view-in-github",
        "colab_type": "text"
      },
      "source": [
        "<a href=\"https://colab.research.google.com/github/kwamasali/kwamasali/blob/master/Bitwise_Operators.ipynb\" target=\"_parent\"><img src=\"https://colab.research.google.com/assets/colab-badge.svg\" alt=\"Open In Colab\"/></a>"
      ]
    },
    {
      "cell_type": "markdown",
      "source": [
        "#Bitwise Operators"
      ],
      "metadata": {
        "id": "241_jV7gXAeI"
      }
    },
    {
      "cell_type": "markdown",
      "source": [
        "The common operators used in python include >>, <<, & and |. These are all applied to create expressions and code to binary systems. Their usage and application will be explained later. First, I will give a brief explanation of binary systems to have a good foundation for the use of these operators."
      ],
      "metadata": {
        "id": "98fOysZWWzvP"
      }
    },
    {
      "cell_type": "markdown",
      "source": [
        "## Binary Systems"
      ],
      "metadata": {
        "id": "dtqHNfgUSdu5"
      }
    },
    {
      "cell_type": "markdown",
      "source": [
        "This system is how computers store and represent numerical data. They are similar to boolean data types in that they use 2 values ie. TRUE and FALSE. But differ in that, in place of those, binary systems use two states of 1 and 0.\n",
        "\n",
        "They can be used to create both large and small digits, which we will explore in the examples below. For the best understanding of binary numbers, we must use our base as numbers that are the squares of 2. See a few examples in the chart;\n",
        "\n"
      ],
      "metadata": {
        "id": "7X_oCJvnSofM"
      }
    },
    {
      "cell_type": "markdown",
      "source": [
        "#![download.jpeg](data:image/jpeg;base64,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)"
      ],
      "metadata": {
        "id": "YM3SgJcLRbEN"
      }
    },
    {
      "cell_type": "markdown",
      "source": [
        "The picture above is examples of the squares of 2. In binary systems, a 1 is used to represent TRUE and 0 for FALSE. An example of this will be blow for how to calculate the binary number of a small number."
      ],
      "metadata": {
        "id": "ww3DBXDNVBmD"
      }
    },
    {
      "cell_type": "markdown",
      "source": [
        "\n",
        "\n",
        "\n",
        "\n",
        "![images.png](data:image/png;base64,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)"
      ],
      "metadata": {
        "id": "mFTk5x0IRhRK"
      }
    },
    {
      "cell_type": "markdown",
      "source": [
        "For the number above(11), the binary number is b1011.\n",
        "\n",
        "Feel free to ask questions at this point and I will try to answer them or give more examples of binaries to help with the understandingof the topic\n",
        "\n",
        "With that basic knowledge, back to bitwise operators."
      ],
      "metadata": {
        "id": "at1joBB1WGN3"
      }
    },
    {
      "cell_type": "markdown",
      "source": [
        "##Bitwise Operators; Definitions, Uses and Applications."
      ],
      "metadata": {
        "id": "06BEV5fxX_7E"
      }
    },
    {
      "cell_type": "markdown",
      "source": [
        " the symbols are >>, <<, & and |. They work with individual bits of binary representation. Lets get into it;"
      ],
      "metadata": {
        "id": "FjjmKK_oYJTu"
      }
    },
    {
      "cell_type": "markdown",
      "source": [
        "Binary number for n1"
      ],
      "metadata": {
        "id": "mmr-x166aDL9"
      }
    },
    {
      "cell_type": "code",
      "source": [
        "n1 = 28\n",
        "\n",
        "print(bin(n1))"
      ],
      "metadata": {
        "colab": {
          "base_uri": "https://localhost:8080/"
        },
        "id": "4NnSpITUZVWN",
        "outputId": "cbf437d0-e2f3-42d2-9c91-5e7fb98f19cd"
      },
      "execution_count": null,
      "outputs": [
        {
          "output_type": "stream",
          "name": "stdout",
          "text": [
            "0b11100\n"
          ]
        }
      ]
    },
    {
      "cell_type": "markdown",
      "source": [
        "Binary number for n2"
      ],
      "metadata": {
        "id": "6Ej61SplaGnH"
      }
    },
    {
      "cell_type": "code",
      "source": [
        "n2 = 19\n",
        "print(bin(n2))"
      ],
      "metadata": {
        "colab": {
          "base_uri": "https://localhost:8080/"
        },
        "id": "dIj1ZlWCZ5jZ",
        "outputId": "a2bfe099-9e02-4e8b-f1eb-abad3bb17dbf"
      },
      "execution_count": null,
      "outputs": [
        {
          "output_type": "stream",
          "name": "stdout",
          "text": [
            "0b10011\n"
          ]
        }
      ]
    },
    {
      "cell_type": "markdown",
      "source": [
        "Heres how to shorten the equation and get inly the binary number without the unnecessary first two figures.\n",
        "\n",
        "We shall use the shortened binary number to make it easier to understand."
      ],
      "metadata": {
        "id": "kiwY18a1aJ3r"
      }
    },
    {
      "cell_type": "code",
      "source": [
        "n2 = 19\n",
        "print(bin(n2)[2:])"
      ],
      "metadata": {
        "colab": {
          "base_uri": "https://localhost:8080/"
        },
        "id": "gsoojIBKaUPT",
        "outputId": "261897ff-f99e-410c-d1b2-d122c7275281"
      },
      "execution_count": null,
      "outputs": [
        {
          "output_type": "stream",
          "name": "stdout",
          "text": [
            "10011\n"
          ]
        }
      ]
    },
    {
      "cell_type": "markdown",
      "source": [
        "###AND (&)\n",
        "\n",
        "If both inputs are 1, the output will be 1. And if only one input has the value 1, the output will give 0."
      ],
      "metadata": {
        "id": "MEM3mTFsauH1"
      }
    },
    {
      "cell_type": "code",
      "source": [
        "n1 = 28\n",
        "n2 = 19\n",
        "n3 = n1 & n2\n",
        "\n",
        "'''\n",
        "The equation is =\n",
        "  11100\n",
        "  -----\n",
        "  10011\n",
        "= 10000\n",
        "'''\n",
        "\n",
        "print(bin(n3)[2:])"
      ],
      "metadata": {
        "colab": {
          "base_uri": "https://localhost:8080/"
        },
        "id": "rl_SO6NDb-wg",
        "outputId": "8d105c34-5fe7-49d7-c606-c8f617ac49ff"
      },
      "execution_count": null,
      "outputs": [
        {
          "output_type": "stream",
          "name": "stdout",
          "text": [
            "10000\n"
          ]
        }
      ]
    },
    {
      "cell_type": "markdown",
      "source": [
        "### OR (|)\n",
        "\n",
        "If both inputs are 0, the output will be 0. Everything else will give an output of 1."
      ],
      "metadata": {
        "id": "VyTO7B5NchYi"
      }
    },
    {
      "cell_type": "code",
      "source": [
        "n1 = 28\n",
        "#binary number for this is 11100\n",
        "\n",
        "n2 = 19\n",
        "#binary number for this is 10011\n",
        "\n",
        "n4 = n1 | n2\n",
        "\n",
        "'''\n",
        "The equation is =\n",
        "  11100\n",
        "  -----\n",
        "  10011\n",
        "= 01111\n",
        "'''\n",
        "\n",
        "print(bin(n4)[2:])"
      ],
      "metadata": {
        "id": "imrQ_VcxdY6D"
      },
      "execution_count": null,
      "outputs": []
    },
    {
      "cell_type": "markdown",
      "source": [
        "###XOR (^) Either Or\n",
        "\n",
        "Where both values are the same, the output is 0. Everything else gives 1."
      ],
      "metadata": {
        "id": "-xliadrWgrDr"
      }
    },
    {
      "cell_type": "code",
      "source": [
        "n1 = 28\n",
        "#binary number for this is 11100\n",
        "\n",
        "n2 = 19\n",
        "#binary number for this is 10011\n",
        "\n",
        "n5 = n1 ^ n2\n",
        "\n",
        "'''\n",
        "The equation is =\n",
        "  11100\n",
        "  -----\n",
        "  10011\n",
        "= 1111\n",
        "'''\n",
        "\n",
        "print(\"0\"+ bin(n5)[2:])"
      ],
      "metadata": {
        "id": "bl8LCGouiCT_"
      },
      "execution_count": null,
      "outputs": []
    },
    {
      "cell_type": "markdown",
      "source": [
        "###SHIFTS (<< , >>)\n",
        "\n",
        "Similar to moving the decimal point. the bits shifted to the left or right by the given number of places (and new bits on the right-hand-side are zeros). This is the same as multiplying x by 2**y.\n",
        "\n"
      ],
      "metadata": {
        "id": "8UWokS4_j9sN"
      }
    },
    {
      "cell_type": "code",
      "source": [
        "n1 = 28\n",
        "#binary number for this is 11100\n",
        "\n",
        "n2 = 19\n",
        "#binary number for this is 10011\n",
        "\n",
        "n6 = n1 >> 2\n",
        "\n",
        "print(bin(n6)[2:])\n",
        "#binary number for this is 0b111"
      ],
      "metadata": {
        "id": "dzC_mwvFWsjc"
      },
      "execution_count": null,
      "outputs": []
    },
    {
      "cell_type": "markdown",
      "source": [
        "### COMPLEMENT (~)\n",
        "\n",
        "Returns the complement of x - the number you get by getting the inverse of 1 for a 0 and each 0 for a 1. This is the same as -x - 1."
      ],
      "metadata": {
        "id": "ExMZ0b3BXaa0"
      }
    },
    {
      "cell_type": "code",
      "source": [
        "n1 = 28\n",
        "#binary number for this is 11100\n",
        "\n",
        "n2 = 19\n",
        "#binary number for this is 10011\n",
        "\n",
        "n7 = n1 & ~n2\n",
        "\n",
        "print(bin(n7)[2:])"
      ],
      "metadata": {
        "colab": {
          "base_uri": "https://localhost:8080/"
        },
        "id": "GFG-U5SfYfCn",
        "outputId": "2a912c4c-05e3-4da9-de4c-8cb515b7904c"
      },
      "execution_count": 24,
      "outputs": [
        {
          "output_type": "stream",
          "name": "stdout",
          "text": [
            "1100\n"
          ]
        }
      ]
    },
    {
      "cell_type": "markdown",
      "source": [
        "##Where are they used\n",
        "\n",
        "###Flags and Permissions\n",
        "\n",
        "Example: This can be applied to a computer system where permissions must be given access to different features of a cloud system. We have 4 features;\n",
        "\n",
        "Read, Write, Execute, Change Policy.\n",
        "\n",
        "Each feature is assigned 1 for TRUE and 0 for FALSE.\n",
        "\n",
        "An example of this would be a binary number for different users;\n",
        "\n",
        "user1: 1111\n",
        "\n",
        "Who has full access to all features of the cloud admin system and can read, write, execute and change policy.\n",
        "\n",
        "user2: 1001\n",
        "\n",
        "Has access to the read and change policy features.\n",
        "\n",
        "Now for application of the operators. First example is to find which permissions they have in common using the '&' operator."
      ],
      "metadata": {
        "id": "_C3pFxr6Z8qP"
      }
    },
    {
      "cell_type": "code",
      "source": [
        "'''\n",
        "Access to the DayStar Daycare App\n",
        "\n",
        "Read, Register, Reserve Sitter, Admin Dashboard, Staff Profiles.\n",
        "'''\n",
        "\n",
        "user1 = 0b11100\n",
        "#This is a parent\n",
        "user2 = 0b10010\n",
        "#This is a sitter\n",
        "user3 = 0b10110\n",
        "#This is a manager and head teacher\n",
        "user4 = 0b11011\n",
        "#This is the IT team for the daycare\n",
        "\n",
        "#Which features do they have in common using the & operator.\n",
        "access1 = user1 & user2 & user3 & user4\n",
        "\n",
        "print(bin(access1)[2:])\n",
        "#They only have the read feature in common"
      ],
      "metadata": {
        "colab": {
          "base_uri": "https://localhost:8080/"
        },
        "id": "vKMs2US0Z8Nu",
        "outputId": "5523bb5f-4cf4-4e90-d557-77ca4fd7fe6e"
      },
      "execution_count": 26,
      "outputs": [
        {
          "output_type": "stream",
          "name": "stdout",
          "text": [
            "10000\n"
          ]
        }
      ]
    }
  ]
}